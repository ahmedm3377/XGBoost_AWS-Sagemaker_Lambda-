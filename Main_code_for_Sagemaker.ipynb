{
 "cells": [
  {
   "cell_type": "code",
   "id": "caa74cdd-56bc-47a4-8186-1c0c0eb7536e",
   "metadata": {},
   "source": [
    "from urllib.request import urlretrieve\n",
    "urlretrieve('https://archive.ics.uci.edu/static/public/53/iris.zip', 'data.zip')"
   ],
   "outputs": [],
   "execution_count": null
  },
  {
   "cell_type": "code",
   "id": "67f08ee4-6722-4167-9b01-b810989e22c5",
   "metadata": {},
   "source": [
    "!mkdir data\n",
    "!unzip data.zip -d data/"
   ],
   "outputs": [],
   "execution_count": null
  },
  {
   "metadata": {},
   "cell_type": "code",
   "outputs": [],
   "execution_count": null,
   "source": [
    "# import pandas as pd\n",
    "#\n",
    "# # download iris data and read it into a dataframe\n",
    "# url = 'http://archive.ics.uci.edu/ml/machine-learning-databases/iris/iris.data'\n",
    "# df = pd.read_csv(url, names=['sepal_length', 'sepal_width', 'petal_length', 'petal_width', 'class'])\n",
    "# df.describe()"
   ],
   "id": "dd26ecb2-ffdf-4707-a8e0-be9c70b32531"
  },
  {
   "cell_type": "code",
   "id": "794a4011-d29c-405f-80d8-77dea8c8b1e1",
   "metadata": {},
   "source": [
    "import pandas as pd\n",
    "df =  pd.read_csv('data/iris.data', header=None)\n",
    "df.head()"
   ],
   "outputs": [],
   "execution_count": null
  },
  {
   "cell_type": "code",
   "id": "e4d0178e-82bd-4266-a9e8-cade5e02609f",
   "metadata": {},
   "source": [
    "df[4] = df[4].replace('Iris-setosa', 0)\n",
    "df[4] = df[4].replace('Iris-virginica', 1)\n",
    "df[4] = df[4].replace('Iris-versicolor', 2)\n",
    "df = df[[4,0,1,2,3]]"
   ],
   "outputs": [],
   "execution_count": null
  },
  {
   "cell_type": "code",
   "id": "9b366a14-b132-43d8-84c9-d59b0f26ee82",
   "metadata": {},
   "source": [
    "df.head()"
   ],
   "outputs": [],
   "execution_count": null
  },
  {
   "cell_type": "code",
   "id": "1efec7c2-647f-40bc-be94-dc24540a8de3",
   "metadata": {},
   "source": [
    "df = df.sample(frac=1).reset_index(drop=True)"
   ],
   "outputs": [],
   "execution_count": null
  },
  {
   "cell_type": "code",
   "id": "3c90d46c-d748-4708-ac44-5e741c06fa74",
   "metadata": {},
   "source": [
    "df.head()"
   ],
   "outputs": [],
   "execution_count": null
  },
  {
   "cell_type": "code",
   "id": "65fdc9a6-6c66-4f91-8032-9fb69d363043",
   "metadata": {},
   "source": [
    "training_data = df[:120]\n",
    "testing_data = df[120:]"
   ],
   "outputs": [],
   "execution_count": null
  },
  {
   "cell_type": "code",
   "id": "401b03b9-dc36-4122-8675-7e6c71eaa4ff",
   "metadata": {},
   "source": [
    "import boto3\n",
    "bucket_name = 'sagemaker-buildml'"
   ],
   "outputs": [],
   "execution_count": null
  },
  {
   "cell_type": "code",
   "id": "8042f7ae-4b0c-4dbb-9633-ab9eda108b9e",
   "metadata": {},
   "source": [
    "training_data.to_csv('data.csv', header=False, index=False)\n",
    "key = 'data/train/data'\n",
    "# url = 's3://{}/{}'.format(bucket_name, key)\n",
    "boto3.Session().resource('s3').Bucket(bucket_name).Object(key).upload_file('data.csv')"
   ],
   "outputs": [],
   "execution_count": null
  },
  {
   "cell_type": "code",
   "id": "0447ad8f-e9e3-4f0f-97e9-96faed0542c1",
   "metadata": {},
   "source": [
    "key = 'data/val/data'\n",
    "boto3.Session().resource('s3').Bucket(bucket_name).Object(key).upload_file('data.csv')"
   ],
   "outputs": [],
   "execution_count": null
  },
  {
   "cell_type": "code",
   "id": "29fb63ec-a879-46cf-ac75-ddc855fb00e6",
   "metadata": {},
   "source": [
    "# ()\n",
    "import sagemaker\n",
    "from sagemaker.amazon.amazon_estimator import get_image_uri\n",
    "from sagemaker import get_execution_role\n",
    "\n",
    "key = 'model/xgb_model'\n",
    "s3_output_location = 's3://{}/{}'.format(bucket_name, key)\n",
    "\n",
    "xgb_model = sagemaker.estimator.Estimator(\n",
    "    get_image_uri(boto3.Session().region_name, 'xgboost'),\n",
    "    get_execution_role(),\n",
    "    train_instance_count=1,\n",
    "    train_instance_type='ml.m5.large',\n",
    "    train_volume_size=5,\n",
    "    output_path=s3_output_location,\n",
    "    sagemaker_session=sagemaker.Session()\n",
    ")\n",
    "\n",
    "xgb_model.set_hyperparameters(max_depth=5,\n",
    "                             eta=0.2,\n",
    "                             gamma=4,\n",
    "                             min_child_weight=6,\n",
    "                             silent=0,\n",
    "                             objective='multi:softmax',\n",
    "                             num_class=3,\n",
    "                             num_round=10\n",
    "                            )"
   ],
   "outputs": [],
   "execution_count": null
  },
  {
   "cell_type": "code",
   "id": "7ee2a276-39f8-46c9-8e3d-ca1000552dbc",
   "metadata": {},
   "source": [
    "# ()\n",
    "training_data=  's3://{}/{}'.format(bucket_name, 'data/train')\n",
    "val_data=  's3://{}/{}'.format(bucket_name, 'data/val')\n",
    "\n",
    "train_channel = sagemaker.session.s3_input(training_data, content_type='text/csv')\n",
    "val_channel = sagemaker.session.s3_input(val_data, content_type='text/csv')\n",
    "\n",
    "data_channels = {'train': train_channel, 'validation': val_channel}\n",
    "\n",
    "xgb_model.fit(inputs=data_channels)"
   ],
   "outputs": [],
   "execution_count": null
  },
  {
   "cell_type": "code",
   "id": "74b6a0e4-4b91-4d3e-9dc2-7103b3fa0034",
   "metadata": {},
   "source": [
    "xgb_predictor = xgb_model.deploy(initial_instance_count=1,\n",
    "                                 instance_type='ml.m5.large'\n",
    "                                )"
   ],
   "outputs": [],
   "execution_count": null
  },
  {
   "cell_type": "code",
   "id": "e21e37d9-c4ac-4e6f-90e3-be9b54bd90c0",
   "metadata": {},
   "source": [],
   "outputs": [],
   "execution_count": null
  }
 ],
 "metadata": {
  "kernelspec": {
   "display_name": "conda_python3",
   "language": "python",
   "name": "conda_python3"
  },
  "language_info": {
   "codemirror_mode": {
    "name": "ipython",
    "version": 3
   },
   "file_extension": ".py",
   "mimetype": "text/x-python",
   "name": "python",
   "nbconvert_exporter": "python",
   "pygments_lexer": "ipython3",
   "version": "3.10.17"
  }
 },
 "nbformat": 4,
 "nbformat_minor": 5
}
